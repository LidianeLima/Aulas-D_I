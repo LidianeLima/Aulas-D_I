{
 "cells": [
  {
   "cell_type": "markdown",
   "metadata": {},
   "source": [
    "# Interação com o usuário\n"
   ]
  },
  {
   "cell_type": "code",
   "execution_count": 1,
   "metadata": {},
   "outputs": [
    {
     "name": "stdout",
     "output_type": "stream",
     "text": [
      "Entre com primeiro valor: 10\n",
      "Entre com segundo valor: 3\n",
      "Soma: 13. \n",
      "Subtração: 7\n",
      "Multiplicação: 30\n",
      "Divisão: 3.3333333333333335\n",
      "Resto: 1\n"
     ]
    }
   ],
   "source": [
    "a = int (input ('Entre com primeiro valor: '))\n",
    "b = int (input ('Entre com segundo valor: '))\n",
    "soma = a + b\n",
    "subtracao = a - b\n",
    "multiplicacao = a * b\n",
    "divisao = a / b\n",
    "resto = a % b\n",
    "print ('Soma: {soma}. \\nSubtração: {subtracao}'\n",
    "       '\\nMultiplicação: {multiplicacao}'\n",
    "       '\\nDivisão: {divisao}'\n",
    "       '\\nResto: {resto}'.format (soma=soma,\n",
    "                                 subtracao=subtracao,\n",
    "                                 multiplicacao=multiplicacao,\n",
    "                                 divisao=divisao,\n",
    "                                 resto=resto))\n",
    "\n"
   ]
  },
  {
   "cell_type": "code",
   "execution_count": null,
   "metadata": {},
   "outputs": [],
   "source": []
  }
 ],
 "metadata": {
  "kernelspec": {
   "display_name": "Python 3",
   "language": "python",
   "name": "python3"
  },
  "language_info": {
   "codemirror_mode": {
    "name": "ipython",
    "version": 3
   },
   "file_extension": ".py",
   "mimetype": "text/x-python",
   "name": "python",
   "nbconvert_exporter": "python",
   "pygments_lexer": "ipython3",
   "version": "3.8.5"
  }
 },
 "nbformat": 4,
 "nbformat_minor": 4
}
