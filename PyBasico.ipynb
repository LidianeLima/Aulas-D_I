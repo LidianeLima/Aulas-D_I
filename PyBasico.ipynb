{
 "cells": [
  {
   "cell_type": "markdown",
   "metadata": {},
   "source": [
    "# Interação com o usuário\n"
   ]
  },
  {
   "cell_type": "code",
   "execution_count": 1,
   "metadata": {},
   "outputs": [
    {
     "name": "stdout",
     "output_type": "stream",
     "text": [
      "Entre com primeiro valor: 10\n",
      "Entre com segundo valor: 3\n",
      "Soma: 13. \n",
      "Subtração: 7\n",
      "Multiplicação: 30\n",
      "Divisão: 3.3333333333333335\n",
      "Resto: 1\n"
     ]
    }
   ],
   "source": [
    "a = int (input ('Entre com primeiro valor: '))\n",
    "b = int (input ('Entre com segundo valor: '))\n",
    "soma = a + b\n",
    "subtracao = a - b\n",
    "multiplicacao = a * b\n",
    "divisao = a / b\n",
    "resto = a % b\n",
    "print ('Soma: {soma}. \\nSubtração: {subtracao}'\n",
    "       '\\nMultiplicação: {multiplicacao}'\n",
    "       '\\nDivisão: {divisao}'\n",
    "       '\\nResto: {resto}'.format (soma=soma,\n",
    "                                 subtracao=subtracao,\n",
    "                                 multiplicacao=multiplicacao,\n",
    "                                 divisao=divisao,\n",
    "                                 resto=resto))\n",
    "\n"
   ]
  },
  {
   "cell_type": "markdown",
   "metadata": {},
   "source": [
    "# Operadores Logícos e condicionais"
   ]
  },
  {
   "cell_type": "code",
   "execution_count": 3,
   "metadata": {},
   "outputs": [
    {
     "name": "stdout",
     "output_type": "stream",
     "text": [
      "Primeiro valor: 6\n",
      "Segundo valor: 5\n",
      "Terceiro valor: 3\n",
      "O maior número é 6\n",
      "Final do programa!\n"
     ]
    }
   ],
   "source": [
    "a = int(input('Primeiro valor: '))\n",
    "b = int(input('Segundo valor: '))\n",
    "c = int(input('Terceiro valor: '))\n",
    "\n",
    "if a > b and a > c:\n",
    "    print('O maior número é {}'.format(a))\n",
    "elif b > a and b > c:\n",
    "    print('O maior número é {}'.format(b))\n",
    "else:\n",
    "    print('O maior número é {}'.format(c))\n",
    "print('Final do programa!')"
   ]
  },
  {
   "cell_type": "code",
   "execution_count": 8,
   "metadata": {},
   "outputs": [
    {
     "name": "stdout",
     "output_type": "stream",
     "text": [
      "Entre com o primeiro valor: 5\n",
      "Entre com o segundo valor: 6\n",
      "Foi digitado um número par\n"
     ]
    }
   ],
   "source": [
    "a = int(input('Entre com o primeiro valor: '))\n",
    "b = int(input('Entre com o segundo valor: '))\n",
    "resto_a = a % 2\n",
    "resto_b = b % 2\n",
    "if resto_a == 0 or not resto_b > 0:\n",
    "    print('Foi digitado um número par')\n",
    "else:\n",
    "    print('Nenhum número par foi digitado')\n",
    "        "
   ]
  },
  {
   "cell_type": "code",
   "execution_count": 10,
   "metadata": {},
   "outputs": [
    {
     "name": "stdout",
     "output_type": "stream",
     "text": [
      "Primeiro bimestre: 3\n",
      "Segundo bimestre: 3\n",
      "Terceiro bimestre: 3\n",
      "Quarto bimestre: 3\n",
      "Media: 3.0\n"
     ]
    }
   ],
   "source": [
    "#validar\n",
    "a = int(input('Primeiro bimestre: '))\n",
    "if a > 10:\n",
    "    a = int(input('Você digitou errado. Primeiro bimestre: '))\n",
    "b = int(input('Segundo bimestre: '))\n",
    "if b > 10:\n",
    "    b = int(input('Você digitou errado. Segundo bimestre: '))\n",
    "c = int(input('Terceiro bimestre: '))\n",
    "if c > 10:\n",
    "    c = int(input('Você digitou errado. Terceiro bimestre: '))\n",
    "d = int(input('Quarto bimestre: '))\n",
    "if d > 10:\n",
    "    d = int(input('Você digitou errado. Quarto bimestre: '))\n",
    "media = (a + b + c + d) / 4\n",
    "print('Media: {}'.format(media))\n"
   ]
  },
  {
   "cell_type": "code",
   "execution_count": 9,
   "metadata": {},
   "outputs": [
    {
     "name": "stdout",
     "output_type": "stream",
     "text": [
      "Entre com o número: 7\n",
      "1 0\n",
      "2 1\n",
      "3 1\n",
      "4 3\n",
      "5 2\n",
      "6 1\n",
      "7 0\n",
      "Numero 7 é primo \n"
     ]
    }
   ],
   "source": [
    "#range de dados\n",
    "a = int(input('Entre com o número: '))\n",
    "\n",
    "div = 0\n",
    "for x in range (1, a+1):\n",
    "    resto = a % x\n",
    "    print(x, resto)\n",
    "    if resto == 0:\n",
    "     div += 1\n",
    "    \n",
    "if div ==2:\n",
    "    print('Numero {} é primo '.format(a))\n",
    "else:\n",
    "    print('Número {} não é primo '.format(a))\n"
   ]
  },
  {
   "cell_type": "code",
   "execution_count": 14,
   "metadata": {},
   "outputs": [
    {
     "name": "stdout",
     "output_type": "stream",
     "text": [
      "Entre com um valor: 31\n",
      "2\n",
      "3\n",
      "5\n",
      "7\n",
      "11\n",
      "13\n",
      "17\n",
      "19\n",
      "23\n",
      "29\n",
      "31\n"
     ]
    }
   ],
   "source": [
    "a = int(input('Entre com um valor: '))\n",
    "for num in range (1, a+1):\n",
    "    div = 0\n",
    "    for x in range (1, num+1):\n",
    "        resto = num % x\n",
    "        if resto == 0:\n",
    "           div +=1\n",
    "    if div == 2:\n",
    "        print(num)\n"
   ]
  },
  {
   "cell_type": "code",
   "execution_count": 15,
   "metadata": {},
   "outputs": [
    {
     "name": "stdout",
     "output_type": "stream",
     "text": [
      "Primeiro bimestre: 6\n",
      "Segundo bimestre: 7\n",
      "Terceiro bimestre: 9\n",
      "Quarto bimestre: 10\n",
      "Media: 8.0\n"
     ]
    }
   ],
   "source": [
    "#media usando While\n",
    "a = int(input('Primeiro bimestre: '))\n",
    "while a > 10:\n",
    "    a = int(input('Você digitou errado. Primeiro bimestre: '))\n",
    "b = int(input('Segundo bimestre: '))\n",
    "while b > 10:\n",
    "    b = int(input('Você digitou errado. Segundo bimestre: '))\n",
    "c = int(input('Terceiro bimestre: '))\n",
    "while c > 10:\n",
    "    c = int(input('Você digitou errado. Terceiro bimestre: '))\n",
    "d = int(input('Quarto bimestre: '))\n",
    "while d > 10:\n",
    "    d = int(input('Você digitou errado. Quarto bimbestre: '))\n",
    "media = (a + b + c + d) / 4\n",
    "print('Media: {}'.format(media))\n"
   ]
  },
  {
   "cell_type": "code",
   "execution_count": 4,
   "metadata": {},
   "outputs": [
    {
     "name": "stdout",
     "output_type": "stream",
     "text": [
      "['macaco', 'gato', 'elefante', 'arara']\n",
      "4\n",
      "<class 'tuple'>\n",
      "<class 'list'>\n",
      "[100, 10, 12, 14]\n"
     ]
    }
   ],
   "source": [
    "#lista, tupla\n",
    "lista = [12, 10, 5]\n",
    "lista_animal = ['cachorro', 'gato', 'elefante', 'arara']\n",
    "lista_animal[0] = 'macaco'\n",
    "print(lista_animal)\n",
    "\n",
    "tupla = (1, 10, 12, 14)\n",
    "print(len(lista_animal))\n",
    "tupla_animal = tuple(lista_animal)\n",
    "print(type(tupla_animal))\n",
    "lista_numerica = list(tupla)\n",
    "print(type(lista_numerica))\n",
    "lista_numerica[0] = 100\n",
    "print(lista_numerica)"
   ]
  }
 ],
 "metadata": {
  "kernelspec": {
   "display_name": "Python 3",
   "language": "python",
   "name": "python3"
  },
  "language_info": {
   "codemirror_mode": {
    "name": "ipython",
    "version": 3
   },
   "file_extension": ".py",
   "mimetype": "text/x-python",
   "name": "python",
   "nbconvert_exporter": "python",
   "pygments_lexer": "ipython3",
   "version": "3.8.5"
  }
 },
 "nbformat": 4,
 "nbformat_minor": 4
}
